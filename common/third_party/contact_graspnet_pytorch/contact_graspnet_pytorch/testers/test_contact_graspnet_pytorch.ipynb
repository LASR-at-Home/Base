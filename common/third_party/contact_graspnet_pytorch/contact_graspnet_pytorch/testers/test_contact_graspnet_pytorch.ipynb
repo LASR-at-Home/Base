{
 "cells": [
  {
   "attachments": {},
   "cell_type": "markdown",
   "metadata": {},
   "source": [
    "# Tester Script for Pytorch Contact Graspnet"
   ]
  },
  {
   "cell_type": "code",
   "execution_count": 3,
   "metadata": {},
   "outputs": [],
   "source": [
    "import torch\n",
    "from contact_graspnet_pytorch.contact_grasp_estimator_pytorch import GraspEstimator\n",
    "from contact_graspnet_pytorch import config_utils"
   ]
  },
  {
   "cell_type": "code",
   "execution_count": 4,
   "metadata": {},
   "outputs": [
    {
     "name": "stdout",
     "output_type": "stream",
     "text": [
      "model func:  <module 'contact_graspnet_pytorch.contact_graspnet_pytorch' from '/home/user/Documents/grasp_generation/contact_graspnet_pytorch/contact_graspnet_pytorch/contact_graspnet_pytorch.py'>\n"
     ]
    }
   ],
   "source": [
    "ckpt_dir = 'checkpoints/scene_test_2048_bs3_hor_sigma_001'\n",
    "forward_passes = 1\n",
    "arg_configs = []\n",
    "\n",
    "global_config = config_utils.load_config(ckpt_dir, batch_size=forward_passes, arg_configs=arg_configs)\n",
    "\n",
    "grasp_estimator = GraspEstimator(global_config)"
   ]
  },
  {
   "cell_type": "code",
   "execution_count": 3,
   "metadata": {},
   "outputs": [],
   "source": [
    "from contact_graspnet_pytorch.contact_graspnet_pytorch import get_model"
   ]
  },
  {
   "cell_type": "code",
   "execution_count": null,
   "metadata": {},
   "outputs": [],
   "source": []
  }
 ],
 "metadata": {
  "kernelspec": {
   "display_name": "c_graspnet_torch",
   "language": "python",
   "name": "python3"
  },
  "language_info": {
   "codemirror_mode": {
    "name": "ipython",
    "version": 3
   },
   "file_extension": ".py",
   "mimetype": "text/x-python",
   "name": "python",
   "nbconvert_exporter": "python",
   "pygments_lexer": "ipython3",
   "version": "3.9.16"
  },
  "orig_nbformat": 4
 },
 "nbformat": 4,
 "nbformat_minor": 2
}
